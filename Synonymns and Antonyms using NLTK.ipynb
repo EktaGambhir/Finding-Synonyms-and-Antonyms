{
 "cells": [
  {
   "cell_type": "code",
   "execution_count": 1,
   "metadata": {},
   "outputs": [],
   "source": [
    "import nltk\n",
    "from nltk.corpus import wordnet \n"
   ]
  },
  {
   "cell_type": "code",
   "execution_count": 10,
   "metadata": {},
   "outputs": [],
   "source": [
    "array_synonyms =[]\n",
    "array_antonyms = []"
   ]
  },
  {
   "cell_type": "code",
   "execution_count": 11,
   "metadata": {},
   "outputs": [
    {
     "name": "stdout",
     "output_type": "stream",
     "text": [
      "[Synset('good.n.01'), Synset('good.n.02'), Synset('good.n.03'), Synset('commodity.n.01'), Synset('good.a.01'), Synset('full.s.06'), Synset('good.a.03'), Synset('estimable.s.02'), Synset('beneficial.s.01'), Synset('good.s.06'), Synset('good.s.07'), Synset('adept.s.01'), Synset('good.s.09'), Synset('dear.s.02'), Synset('dependable.s.04'), Synset('good.s.12'), Synset('good.s.13'), Synset('effective.s.04'), Synset('good.s.15'), Synset('good.s.16'), Synset('good.s.17'), Synset('good.s.18'), Synset('good.s.19'), Synset('good.s.20'), Synset('good.s.21'), Synset('well.r.01'), Synset('thoroughly.r.02')]\n"
     ]
    }
   ],
   "source": [
    "print(wordnet.synsets(\"good\"))"
   ]
  },
  {
   "cell_type": "code",
   "execution_count": 13,
   "metadata": {},
   "outputs": [],
   "source": [
    "for vsyn in wordnet.synsets(\"good\"):\n",
    "    #print(vsyn)\n",
    "    for l in vsyn.lemmas():\n",
    "        array_synonyms.append(l.name())\n",
    "        if l.antonyms():\n",
    "            array_antonyms.append(l.antonyms()[0].name())"
   ]
  },
  {
   "cell_type": "code",
   "execution_count": 16,
   "metadata": {},
   "outputs": [
    {
     "name": "stdout",
     "output_type": "stream",
     "text": [
      "{'good', 'unspoiled', 'dear', 'well', 'commodity', 'upright', 'near', 'trade_good', 'just', 'honest', 'goodness', 'in_effect', 'beneficial', 'unspoilt', 'right', 'dependable', 'sound', 'effective', 'proficient', 'thoroughly', 'secure', 'safe', 'ripe', 'adept', 'estimable', 'full', 'in_force', 'expert', 'salutary', 'skilful', 'honorable', 'undecomposed', 'serious', 'soundly', 'respectable', 'practiced', 'skillful'}\n"
     ]
    }
   ],
   "source": [
    "print(set(array_synonyms))"
   ]
  },
  {
   "cell_type": "code",
   "execution_count": 17,
   "metadata": {},
   "outputs": [
    {
     "name": "stdout",
     "output_type": "stream",
     "text": [
      "{'badness', 'bad', 'evilness', 'ill', 'evil'}\n"
     ]
    }
   ],
   "source": [
    "print(set(array_antonyms))\n"
   ]
  },
  {
   "cell_type": "code",
   "execution_count": null,
   "metadata": {},
   "outputs": [],
   "source": []
  }
 ],
 "metadata": {
  "kernelspec": {
   "display_name": "Python 3",
   "language": "python",
   "name": "python3"
  },
  "language_info": {
   "codemirror_mode": {
    "name": "ipython",
    "version": 3
   },
   "file_extension": ".py",
   "mimetype": "text/x-python",
   "name": "python",
   "nbconvert_exporter": "python",
   "pygments_lexer": "ipython3",
   "version": "3.7.1"
  }
 },
 "nbformat": 4,
 "nbformat_minor": 2
}
